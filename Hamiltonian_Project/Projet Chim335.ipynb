{
 "cells": [
  {
   "cell_type": "markdown",
   "id": "4c3ca296",
   "metadata": {},
   "source": [
    "# **Solving the time-independent Schrödinger equation in 1D**"
   ]
  },
  {
   "cell_type": "markdown",
   "id": "e309a6d5-305e-45c1-9567-7cf2a3b174c2",
   "metadata": {
    "jp-MarkdownHeadingCollapsed": true
   },
   "source": [
    "## Importation des libraries utilisé"
   ]
  },
  {
   "cell_type": "code",
   "execution_count": 218,
   "id": "d27e0259-2a47-4967-b520-cb61d9546c4d",
   "metadata": {},
   "outputs": [],
   "source": [
    "import numpy as np\n",
    "\n",
    "from math import pi, sqrt, sin, factorial\n",
    "from scipy.integrate import quad"
   ]
  },
  {
   "cell_type": "code",
   "execution_count": 219,
   "id": "f26b51e2-90d6-402b-ba24-92570da48a14",
   "metadata": {},
   "outputs": [],
   "source": [
    "# Debuging mode ?\n",
    "debug = False"
   ]
  },
  {
   "cell_type": "code",
   "execution_count": 220,
   "id": "6e9a7b9b-94c8-4e26-addd-bd1596af759e",
   "metadata": {},
   "outputs": [],
   "source": [
    "# Typing\n",
    "type Vector = np.ndarray[float]\n",
    "type Family = list[Vector]\n",
    "type Matrix = list[list[float]]"
   ]
  },
  {
   "cell_type": "markdown",
   "id": "ca5e8fee-22b2-4325-85a1-820b0f65e9bd",
   "metadata": {
    "jp-MarkdownHeadingCollapsed": true
   },
   "source": [
    "## Procédure de diagonalisation"
   ]
  },
  {
   "cell_type": "markdown",
   "id": "ca0e24e6-4b0c-4c9a-929d-92b7b0c90490",
   "metadata": {
    "jp-MarkdownHeadingCollapsed": true
   },
   "source": [
    "### Procédure d'orthonormalisation utile pour la méthode de Davidson\n",
    "On utlise l'algorithme de gramschmidt (https://fr.wikipedia.org/wiki/Algorithme_de_Gram-Schmidt)"
   ]
  },
  {
   "cell_type": "code",
   "execution_count": 221,
   "id": "43bead98-5eb8-4c38-abcb-43b49faccd2b",
   "metadata": {},
   "outputs": [],
   "source": [
    "def matrix_to_family(M: Matrix) -> Family:\n",
    "    \"\"\" Transforme une matrice en une famille de vecteur constituer des colones de cette matrice \"\"\"\n",
    "    return np.array(M).T\n",
    "\n",
    "def family_to_matrix(L: Family) -> Matrix:\n",
    "    \"\"\" Transforme une famille de vecteur en matrice \"\"\"\n",
    "    return np.array(L).T\n",
    "\n",
    "if debug:\n",
    "    M = np.random.randint(100, size=(10,10))\n",
    "    print(\"On veut transformé un matrice M : \\n\\n\", M, \"\\n\\nen famille de vecteur : \\n\")\n",
    "    print(matrix_to_familly(M))\n",
    "    print(\"\\nOn l'a retransforme en matrice :\\n\")\n",
    "    print(family_to_matrix(matrix_to_family(M)))"
   ]
  },
  {
   "cell_type": "code",
   "execution_count": 222,
   "id": "aad913d7-adb9-46d9-ab94-6af8b17eccce",
   "metadata": {},
   "outputs": [],
   "source": [
    "def ps(a: Vector, b: Vector) -> float:\n",
    "    \"\"\"\n",
    "    Fait le produit scalaire canonique de ℝ^n expliquer dans\n",
    "    https://fr.wikipedia.org/wiki/Produit_scalaire_canonique\n",
    "    \"\"\"\n",
    "    sum = 0\n",
    "    for i in range(len(a)):\n",
    "        sum += a[i]*b[i]\n",
    "    return sum\n",
    "\n",
    "if debug:\n",
    "    u = [1,2,3]\n",
    "    v = [2,3,4]\n",
    "    print(f\"On fait le produit scalaire canonique de {u} avec {v} qui doit donner 20\")\n",
    "    print(\"résultat = \", ps(u, v))"
   ]
  },
  {
   "cell_type": "code",
   "execution_count": 223,
   "id": "43b5ba82-8da4-47e8-85de-168119af61b1",
   "metadata": {},
   "outputs": [],
   "source": [
    "def norm(u: Vector) -> float:\n",
    "    \"\"\" Norme associé au produit scalaire canonique de ℝ^n \"\"\"\n",
    "    return ps(u, u)**(1/2)\n",
    "\n",
    "if debug:\n",
    "    u = np.array([1, 1, 1])\n",
    "    print(f\"On calcule la norme de {u} associé au produit saclaire canonique de ℝ^n qui doit donner √3\")\n",
    "    print(\"résultat = \", norm(u))"
   ]
  },
  {
   "cell_type": "code",
   "execution_count": 224,
   "id": "16ae51f3-ce09-4912-9af7-0d9ac705e2a9",
   "metadata": {},
   "outputs": [],
   "source": [
    "def orthonorm_vec(F: Family, v: Vector) -> Vector:\n",
    "    \"\"\" Orthonomalise un vecteur par rapport à une famille de vecteurs orthonormaux \"\"\"\n",
    "    u = np.array(v)\n",
    "    for vk in np.array(F):\n",
    "        u = u - ps(vk, v)*vk\n",
    "    return u/norm(u)\n",
    "\n",
    "if debug:\n",
    "    F = [[1, 0, 0],[0, 1, 0]]\n",
    "    v = [1, 1, 1]\n",
    "    print(f\"Orthonormalise le vecteur {v} par rapport à la famille orthonormale \\n{F}\\n doit renvoyer le vecteur (0,0,1)\")\n",
    "    print(\"résultat = \", orthonorm_vec(F, v))    "
   ]
  },
  {
   "cell_type": "code",
   "execution_count": 225,
   "id": "528c1334-141a-4f01-b483-45466cb8ca54",
   "metadata": {},
   "outputs": [],
   "source": [
    "def gram_schmidt(F: Family) -> Family:\n",
    "    \"\"\" Aplique l'algorithme de gramschmidt pour orthonomaliser la famille quelconque F \"\"\"\n",
    "    ONF = []\n",
    "    for e in F:\n",
    "        ONF.append(orthonorm_vec(ONF, e))\n",
    "    return np.array(ONF)\n",
    "\n",
    "if debug:\n",
    "    F = [[1, 0, 0],[1, 1, 0],[1, 1, 1]]\n",
    "    print(\"On orthonormalise la famille F : \")\n",
    "    print(F)\n",
    "    print(\"On doit trouver [[1, 0, 0],[0, 1, 0],[0, 0, 1]]\")\n",
    "    print(\"résultat : \", gram_schmidt(F))"
   ]
  },
  {
   "cell_type": "code",
   "execution_count": 226,
   "id": "a22265d7-4c34-4e3f-9f6b-4f20e60c1474",
   "metadata": {},
   "outputs": [],
   "source": [
    "def gram_schmidt_matrix(M: Matrix) -> Matrix:\n",
    "    \"\"\" Aplique l'algorithme de gramschmidt pour orthonomaliser la matrice M. \"\"\"\n",
    "    return family_to_matrix(gram_schmidt(matrix_to_family(M)))\n",
    "\n",
    "if debug:\n",
    "    M = np.random.randint(100,size=(3, 3))\n",
    "    print(\"On veut orthonormaliser M :\")\n",
    "    print(M)\n",
    "    print(\"résultat :\")\n",
    "    ONM = gram_schmidt_matrix(M)\n",
    "    print(ONM)\n",
    "    print(\"La matrice est orthonormale ?\")\n",
    "    print(\"norme : \", norm(ONM[:,0].T))\n",
    "    print(\"norme : \", norm(ONM[:,1].T))\n",
    "    print(\"norme : \", norm(ONM[:,2].T))\n",
    "    print(\"produit scalaire : \", ps(ONM[:,0].T, ONM[:,2].T,))\n",
    "    print(\"produit scalaire : \", ps(ONM[:,0].T, ONM[:,1].T,))\n",
    "    print(\"produit scalaire : \", ps(ONM[:,2].T, ONM[:,1].T,))"
   ]
  },
  {
   "cell_type": "markdown",
   "id": "0366b3a4-98d8-482c-b7c3-84eeff3bd7fc",
   "metadata": {
    "jp-MarkdownHeadingCollapsed": true
   },
   "source": [
    "### Procédure de tri pour la méthode de Davidson\n",
    "On utilise la méthode de trifusion qui est en complexité n*log(n) (https://fr.wikipedia.org/wiki/Tri_fusion)"
   ]
  },
  {
   "cell_type": "code",
   "execution_count": 227,
   "id": "2df81b2c-b48a-4179-80fa-e63582b03315",
   "metadata": {},
   "outputs": [],
   "source": [
    "def fusion(A: list, B: list) -> list:\n",
    "    \"\"\" Procédure qui fusione deux listes trié \"\"\"\n",
    "    if len(A) == 0:\n",
    "        return B\n",
    "    elif len(B) == 0:\n",
    "        return A\n",
    "    elif A[0] <= B[0]:\n",
    "        return [A[0]] + fusion(A[1:], B)\n",
    "    else:\n",
    "        return [B[0]] + fusion(A, B[1:])\n",
    "if debug:\n",
    "    A = [1, 3, 4, 7]\n",
    "    B = [2, 3, 5]\n",
    "    print(f\"On fusione les listes {A} et {B} pour obtenir cette liste : [1, 2, 3, 3, 4, 5, 7]\")\n",
    "    print(\"résultat : \", fusion(A, B))"
   ]
  },
  {
   "cell_type": "code",
   "execution_count": 228,
   "id": "30051280-eeca-4e2e-b265-7b21ac08a9a9",
   "metadata": {},
   "outputs": [],
   "source": [
    "def triFusion(L):\n",
    "    \"\"\" On tri une liste en utilisant le principe de diviser pour reigner \"\"\"\n",
    "    if len(L) == 1:\n",
    "        return L\n",
    "    else:\n",
    "        return fusion(triFusion(L[:len(L)//2]) , triFusion(L[len(L)//2:]))\n",
    "\n",
    "if debug:\n",
    "    L = list(zip([1, 76, 71, 6, 25, 50, 20, 18, 84, 11],[1,1,1,1,1,1,1,1,1,1]))\n",
    "    print(\"On tri la liste :\", L, \"selon les premières valeur du couple\")\n",
    "    print(\"résultat :\", triFusion(L))"
   ]
  },
  {
   "cell_type": "markdown",
   "id": "2bda5fbd-4b78-437f-93eb-cde4516cd7d2",
   "metadata": {
    "jp-MarkdownHeadingCollapsed": true
   },
   "source": [
    "### Méthode de Davidson\n",
    "Implémentation basé sur ces explications page 65 : https://www.irisa.fr/sage/bernard/publis/DAVIDSON94.pdf"
   ]
  },
  {
   "cell_type": "code",
   "execution_count": 229,
   "id": "83017504-83f4-4a65-b78c-7de47ee30f6b",
   "metadata": {},
   "outputs": [],
   "source": [
    "def davidson(M: Matrix, m=3, l=1, seuil=1e-8, MIt=600) -> tuple:\n",
    "    \"\"\"\n",
    "    M : la matrice à diagonaliser\n",
    "    m : la précision de l'agorithme Km = {V0;MV0;M²V0;...}\n",
    "    l : le nombre de vecteur/valeur propre à trouver\n",
    "    seuil : précision de l'aproxiamtion des valeurs propres\n",
    "    MIt : maximum d'itiération\n",
    "\n",
    "    Fonction qui retourne le coupe ([valeur propre], [vecteur propre]) de\n",
    "    la matrice M\n",
    "    \"\"\"\n",
    "    np.set_printoptions(precision=3, suppress=True)\n",
    "\n",
    "    # Initialisation\n",
    "    M = np.array(M)\n",
    "    N = len(M)\n",
    "    V1 = np.eye(N, l)\n",
    "    I = np.identity(N)\n",
    "\n",
    "    if not(l<=m<=N):\n",
    "        raise ValueError(f\"value must be {l} <= {m} <= {N}\")\n",
    "\n",
    "    # Concstruction du sous espace réduit de (Kernal)\n",
    "    v = [V1]\n",
    "\n",
    "    # itération\n",
    "    for k in range(MIt):\n",
    "        # Résolution du sous-espace réduit\n",
    "        T = np.dot(v[k].T, np.dot(M, v[k]))\n",
    "        val, vec = np.linalg.eig(T)\n",
    "        #val, vec = lanczos(T)\n",
    "        Eigencouple = list(zip(val,vec))\n",
    "        Eigencouple = triFusion(Eigencouple)[-l:] # Plus grande VP\n",
    "        #Eigencouple = triFusion(Eigencouple)[:l] # Plus petite VP\n",
    "        val, vec = list(zip(*Eigencouple))\n",
    "        vec = np.array(vec).T\n",
    "        val = np.array(val)\n",
    "\n",
    "        x = np.array([[] for _ in range(N)])\n",
    "        r = np.array([[] for _ in range(N)])\n",
    "        t = np.array([[] for _ in range(N)])\n",
    "\n",
    "        # Expansion du sous-espace\n",
    "        for i in range(l):\n",
    "            yi = vec[:, i].reshape((T.shape[0], 1))\n",
    "\n",
    "            xi = np.dot(v[k], yi)\n",
    "            x = np.concatenate((x, xi), axis=1)\n",
    "\n",
    "            ri = val[i]*xi-np.dot(M, np.dot(v[k], yi))\n",
    "            r = np.concatenate((r, ri), axis=1)\n",
    "\n",
    "            # Seuil à 1e-300 pour eviter les problèmesde division par 0\n",
    "            mu_i = [1/max(np.abs(val[i]-M[j, j]), 1e-200)\n",
    "                    for j in range(N)]\n",
    "            Ci = np.diag(mu_i)\n",
    "            ti = np.dot(Ci, ri)\n",
    "            t = np.concatenate((t, ti), axis=1)\n",
    "                \n",
    "        # Stop si l'algo converge        \n",
    "        if np.linalg.norm(t) < seuil:\n",
    "            print(\"Davidson converge\")\n",
    "            return val, x\n",
    "\n",
    "        # Sinon on regénère une nouvelle matrice de passage\n",
    "        if v[k].shape[0] <= m - l :\n",
    "            v.append(gram_schmidt_matrix(np.concatenate((v[k], t), axis=1)).reshape(N, v[k].shape[1]+l))\n",
    "        else:\n",
    "            v.append(gram_schmidt_matrix(np.concatenate((x, t), axis=1)).reshape(N, 2*l))\n",
    "\n",
    "    return val, x\n",
    "\n",
    "if debug:\n",
    "    M = [[1, 1, 1],\n",
    "         [1, 1, 1],\n",
    "         [1, 1, 1]]\n",
    "    print(\"On cherche les valeurs et vecteurs propres de : \\n\", M)\n",
    "    print(\"résultat : \", davidson(M))\n",
    "    print(\"résultat théorique :\", np.linalg.eig(M))"
   ]
  },
  {
   "cell_type": "markdown",
   "id": "c0365607-2902-4e95-8b99-46949f01b161",
   "metadata": {
    "jp-MarkdownHeadingCollapsed": true
   },
   "source": [
    "### Méthode de Lanczos\n",
    "Implémentation basé sur ces explications https://en.wikipedia.org/wiki/Lanczos_algorithm"
   ]
  },
  {
   "cell_type": "code",
   "execution_count": 255,
   "id": "98507663-0dbc-48f1-8df6-a0face32a4c5",
   "metadata": {},
   "outputs": [],
   "source": [
    "# En construction\n",
    "def lanczos():\n",
    "    pass"
   ]
  },
  {
   "cell_type": "markdown",
   "id": "eeacbf4a",
   "metadata": {
    "jp-MarkdownHeadingCollapsed": true
   },
   "source": [
    "## Construction des bases de résolution de l'équation"
   ]
  },
  {
   "cell_type": "markdown",
   "id": "3779851e",
   "metadata": {
    "jp-MarkdownHeadingCollapsed": true
   },
   "source": [
    "### Base des sinus\n",
    "> ⚠️⚠️**Atention les calcules à la main sont sans doute faux car différant de la verssion numérique** ⚠️⚠️\n",
    "\n",
    "Cette fonction permet d'initialiser la classe de B_sin en initialisant notament les valeurs des différentes variables.\n",
    "Cette classe possède les méthodes suivante :\n",
    "\n",
    "- init :\n",
    "Cette fonction initialise les différentes variables associé à notre classe B_sin.\n",
    "\n",
    "- ret_base :\n",
    "Cette fonction renvoie la base composée de sinus de la taille désirée.\n",
    "\n",
    "- prdt_scalaire_Ec :\n",
    "Renvoie le produit de points calculé à la main de l'énergie cinétique de l'hamiltonien.\n",
    "\n",
    "- prdt_scalaire_Ep :\n",
    "Renvoie le produit point calculé à la main de l'énergie potentielle de l'hamiltonien."
   ]
  },
  {
   "cell_type": "code",
   "execution_count": 231,
   "id": "32e09f1a",
   "metadata": {},
   "outputs": [],
   "source": [
    "class B_sin():\n",
    "    \"\"\" Cette classe permet de calculer la base des sinus pour le calcul de l'hamiltonien \"\"\"\n",
    "    def __init__(self, N, L, V):\n",
    "        \"\"\" Methode qui initialise la classe de l'objet B_sin() \"\"\"\n",
    "        self.N = N\n",
    "        self.L = L\n",
    "        self.V = V\n",
    "        x = sqrt(2)\n",
    "        self.k = eval(self.V)\n",
    "    \n",
    "    def ret_base(self):\n",
    "        \"\"\" Methode qui calcule la liste des sinus qui formera la base \"\"\"\n",
    "        return [f'sqrt(2/{self.L}) * sin(({n}*pi*x)/{self.L})' for n in \n",
    "                range(self.N)]\n",
    "\n",
    "    def prdt_scalaire_Ec(self, i, j):\n",
    "        \"\"\" Methode qui donne le produit scalaire : <Φi|T̂|Φj> (calcul a la main) \"\"\"\n",
    "        if i == j:\n",
    "            return - (j*pi)**2 / self.L\n",
    "        else :\n",
    "            return 0\n",
    "    \n",
    "    def prdt_scalaire_Ep(self, i, j):\n",
    "        \"\"\" Methode qui donne le produit scalaire : <Φi|V̂|Φj> (calcul a la main) pour un potentiel harmonique\"\"\"\n",
    "        if i == j :\n",
    "            return (self.k * (self.L)**2) / 3\n",
    "        else :\n",
    "            return ((2 * self.k * (self.L)**2) / pi**2) * ( (((-1)**(i+j))/(i+j)**2) - (((-1)**(i-j))/(i-j)**2) )\n",
    "\n",
    "if debug:\n",
    "    N = 3 # La dimenssion de la base\n",
    "    L = 1 # en U.A. est la taille du puit infini où les sinus sont vecteurs propres de l'hamiltonien\n",
    "    m = 1 # en U.A. est la masse de la particule\n",
    "    w = 1 # en U.A. est la pulsation de la vibration\n",
    "    h = 1 # en U.A. est la constante de Plank\n",
    "    k = m*(w**2) # la raideur du ressort\n",
    "    V = f\"({k}*x**2)/2\" # le potentiel d'un puit infini\n",
    "    B = B_sin(N, L, V)\n",
    "    print(f\"La base des sinus qui est base pour le puit infini de longueur {L} U.A. constituer de {N} vecteurs est :\")\n",
    "    print(B.ret_base())\n",
    "    i = 0\n",
    "    j = 0\n",
    "    print(f\"La valeur de l'énergie cinétique du système pour les vecteurs {i+1} et {j+1} est : \", B.prdt_scalaire_Ec(i,j))\n",
    "    print(f\"La valeur de l'énergie potentiel du système pour les vecteurs {i+1} et {j+1} est : \", B.prdt_scalaire_Ep(i,j))"
   ]
  },
  {
   "cell_type": "markdown",
   "id": "81a10099-d652-405c-a7d4-5246ca2627ac",
   "metadata": {
    "jp-MarkdownHeadingCollapsed": true
   },
   "source": [
    "### Other basis\n",
    "\n",
    "We have also drafted a basis with a harmonic oscillator, which you will find commented on at the end of the Python document 'base'.  \n",
    "**The different sources:**  \n",
    "* https://fr.wikipedia.org/wiki/Oscillateur_harmonique_quantique  \n",
    "* https://fr.wikipedia.org/wiki/Polyn%C3%B4me_d%27Hermite\n",
    "\n"
   ]
  },
  {
   "cell_type": "markdown",
   "id": "c5b4d894",
   "metadata": {
    "jp-MarkdownHeadingCollapsed": true
   },
   "source": [
    "### Base quelconque\n",
    "On veut créer ici une classe base qui créer une base en compréhanssion "
   ]
  },
  {
   "cell_type": "markdown",
   "id": "7a38d582-0a7d-4c46-812a-46cde7286d8a",
   "metadata": {},
   "source": [
    "Notre class base aurra besoin de calculer la dériver seconde d'une fonction en un point"
   ]
  },
  {
   "cell_type": "code",
   "execution_count": 232,
   "id": "a21a3253-8632-4ec9-92cc-32cfe03e5df2",
   "metadata": {},
   "outputs": [],
   "source": [
    "def deriv(f : str, x : float, h = 1e-3):\n",
    "    \"\"\" \n",
    "    Fonction qui calcule la dériver de la fonction f en x.\n",
    "    f est un string.\n",
    "    Exemple d'utilisation pour deriver la fonction sinus en 0:\n",
    "    f = 'np.sin(x)'\n",
    "    x = 0.\n",
    "    resultat = deriv(f,x)\n",
    "    \"\"\"\n",
    "    x += h\n",
    "    res = eval(f)\n",
    "    x -= 2 * h\n",
    "    res -= eval(f)\n",
    "    return res/(2*h)\n",
    "\n",
    "def derivderiv(func : str, x : float, h = 1e-3):\n",
    "    \"\"\"\n",
    "    Fonction qui calcule la dériver seconde de la fonction f en x.\n",
    "    f est un string.\n",
    "    Exemple d'utilisation pour deriver deux fois la fonction sinus en 0:\n",
    "    f = 'np.sin(x)'\n",
    "    x = 0.\n",
    "    resultat = derivderiv(f,x)\n",
    "    \"\"\"\n",
    "    return (deriv(func,x+h)-deriv(func,x-h))/(2*h)\n",
    "\n",
    "if debug:\n",
    "    f = \"np.sin(x)\"\n",
    "    x = 0.\n",
    "    print(f\"La dériver de {f} en {x} est \", deriv(f,x))\n",
    "    print(f\"La dériver seconde de {f} en {x} est \", derivderiv(f,x))"
   ]
  },
  {
   "cell_type": "code",
   "execution_count": 233,
   "id": "dc2a7e51",
   "metadata": {},
   "outputs": [],
   "source": [
    "class base():\n",
    "    \"\"\" Cette classe permet de calculer une base quelconque pour le calcul de l'hamiltonien \"\"\"\n",
    "    def __init__(self, N : int, func : str, var : str, pot : str, L : float):\n",
    "        \"\"\" \n",
    "        Methode qui initialise la classe de l'objet base.\n",
    "        N : Le nombre de vecteur de la base\n",
    "        func : est un string de la fonction comme si on l'écrivait. ex: func = \"np.sin(n*x)\"\n",
    "        var : est la variable d'itération de la base. ex: avec l'exemple précédant on itère selon la variable n : (sin(x), sinc(2x), sin(3x),...)\n",
    "        pot : le potentiel associé au problème défini selon les même restriction que func\n",
    "        L : La largeur de la boîte de potentiel qui comprend le potentiel définit\n",
    "        \"\"\"\n",
    "        self.V = pot\n",
    "        # create the base\n",
    "        self.base =[]\n",
    "        self.L = L\n",
    "\n",
    "        function = func.split(var)\n",
    "        for n in range(1,N+1):\n",
    "            f = ''\n",
    "            for i in range(len(function)):\n",
    "                if i != len(function) - 1:\n",
    "                    f += function[i] + str(n)\n",
    "                else:\n",
    "                    f += function[i]\n",
    "            self.base.append(f)\n",
    "\n",
    "    def prdt_scalaire_Ec(self, i, j) -> float:\n",
    "        \"\"\" Methode qui donne le produit scalaire : <Φi|T̂|Φj> \"\"\"\n",
    "        def func(x):\n",
    "            x = x\n",
    "            return eval(self.base[i]) * derivderiv(self.base[j],x)\n",
    "        return quad(func, -self.L, self.L)[0]\n",
    "    \n",
    "    def prdt_scalaire_Ep(self, i, j) -> float:\n",
    "        \"\"\" Methode qui donne le produit scalaire : <Φi|V̂|Φj>  pour un potentiel quelconque\"\"\"\n",
    "        def func(x):\n",
    "            x = x\n",
    "            return eval(self.base[i]+'*'+self.V+'*'+self.base[j])\n",
    "        return quad(func, -self.L, self.L)[0]\n",
    "\n",
    "if debug:\n",
    "    N = 3 # La dimenssion de la base\n",
    "    L = 1 # en U.A. est la taille du puit infini où les sinus sont vecteurs propres de l'hamiltonien\n",
    "    m = 1 # en U.A. est la masse de la particule\n",
    "    w = 1 # en U.A. est la pulsation de la vibration\n",
    "    h = 1 # en U.A. est la constante de Plank\n",
    "    k = m*(w**2) # la raideur du ressort\n",
    "    V = f\"({k}*x**2)/2\" # le potentiel d'un puit infini\n",
    "\n",
    "    f = \"np.sin(a*x)\"\n",
    "    var = \"a\"\n",
    "    \n",
    "    # Définition de la base\n",
    "    B = base(N, f, var, V, L)\n",
    "    print(f\"La base des {f} qui est contenue dans un puit infini de longueur {L} U.A. constituer de {N} vecteurs est :\")\n",
    "    print(B.base)\n",
    "    i = 0\n",
    "    j = 0\n",
    "    print(f\"La valeur de l'énergie cinétique du système pour les vecteurs {i+1} et {j+1} est : \", B.prdt_scalaire_Ec(i,j))\n",
    "    print(f\"La valeur de l'énergie potentiel du système pour les vecteurs {i+1} et {j+1} est : \", B.prdt_scalaire_Ep(i,j))"
   ]
  },
  {
   "cell_type": "markdown",
   "id": "9c9a469f-cb04-401e-bbcc-0f5effe22b91",
   "metadata": {
    "jp-MarkdownHeadingCollapsed": true
   },
   "source": [
    "## Routine de résolution\n",
    "### Procédure qui détermine l'hamiltonien du système associé à la base de description"
   ]
  },
  {
   "cell_type": "code",
   "execution_count": 234,
   "id": "8bead5fa-2a2b-4709-a70e-765c21a0b6fe",
   "metadata": {},
   "outputs": [],
   "source": [
    "def CalculHamiltonian(base, N):\n",
    "\n",
    "    H = np.zeros((N,N))\n",
    "\n",
    "    for i in range(N):\n",
    "        for j in range(i + 1):\n",
    "            H[i,j] = base.prdt_scalaire_Ec(i, j) +  base.prdt_scalaire_Ep(i, j)\n",
    "\n",
    "    H = H + H.T - np.diag(np.diag(H))\n",
    "\n",
    "    return H"
   ]
  },
  {
   "cell_type": "code",
   "execution_count": 250,
   "id": "28f1fb91-2eba-4517-a75d-0404d3643821",
   "metadata": {},
   "outputs": [],
   "source": [
    "### Constantes et fonctions\n",
    "N = 10 # La dimenssion de la base\n",
    "L = 1 # en U.A. est la taille du puit infini où les sinus sont vecteurs propres de l'hamiltonien\n",
    "m = 1 # en U.A. est la masse de la particule\n",
    "w = 1 # en U.A. est la pulsation de la vibration\n",
    "h = 1 # en U.A. est la constante de Plank\n",
    "k = m*(w**2) # la raideur du ressort\n",
    "V = f\"({k}*x**2)/2\" # le potentiel d'un puit infini\n",
    "\n",
    "func = f'np.sqrt(2/{L})*np.sin( (a*np.pi*x) /{L})'\n",
    "var = \"a\""
   ]
  },
  {
   "cell_type": "code",
   "execution_count": 254,
   "id": "77693706-f24f-40e9-9d5d-6d2ad19a9657",
   "metadata": {},
   "outputs": [
    {
     "name": "stdout",
     "output_type": "stream",
     "text": [
      "La base du système est :\n",
      "['np.sqrt(2/1)*np.sin( (1*np.pi*x) /1)', 'np.sqrt(2/1)*np.sin( (2*np.pi*x) /1)', 'np.sqrt(2/1)*np.sin( (3*np.pi*x) /1)', 'np.sqrt(2/1)*np.sin( (4*np.pi*x) /1)', 'np.sqrt(2/1)*np.sin( (5*np.pi*x) /1)', 'np.sqrt(2/1)*np.sin( (6*np.pi*x) /1)', 'np.sqrt(2/1)*np.sin( (7*np.pi*x) /1)', 'np.sqrt(2/1)*np.sin( (8*np.pi*x) /1)', 'np.sqrt(2/1)*np.sin( (9*np.pi*x) /1)', 'np.sqrt(2/1)*np.sin( (10*np.pi*x) /1)']\n",
      "\n",
      "L'hamiltonien associé est :\n",
      "[[ -19.456   -0.18     0.038   -0.014    0.007]\n",
      " [  -0.18   -78.635   -0.195    0.045   -0.018]\n",
      " [   0.038   -0.195 -177.32    -0.199    0.047]\n",
      " [  -0.014    0.045   -0.199 -315.481   -0.2  ]\n",
      " [   0.007   -0.018    0.047   -0.2   -493.108]]\n",
      "\n",
      "Résolution du système en cours ...\n",
      "\n",
      "Résolution terminer.\n",
      "Energie numerique :  [-19.456]\n",
      "Energie numerique numpy :  [ -19.456 -493.109  -78.635 -177.32  -315.481]\n",
      "Energie analitique :  0.5\n"
     ]
    }
   ],
   "source": [
    "B = base(N, func, var, V, L)\n",
    "print(\"La base du système est :\")\n",
    "print(B.base)\n",
    "\n",
    "H = CalculHamiltonian(B, N//2)\n",
    "print()\n",
    "print(\"L'hamiltonien associé est :\")\n",
    "print(H)\n",
    "\n",
    "print()\n",
    "print(\"Résolution du système en cours ...\")\n",
    "E, phi = davidson(H)\n",
    "val, vec = np.linalg.eig(H)\n",
    "\n",
    "print()\n",
    "print(\"Résolution terminer.\")\n",
    "print(\"Energie numerique : \", E)\n",
    "print(\"Energie numerique numpy : \", val)\n",
    "print(\"Energie analitique : \", h*w/2)"
   ]
  }
 ],
 "metadata": {
  "kernelspec": {
   "display_name": "Python 3 (ipykernel)",
   "language": "python",
   "name": "python3"
  },
  "language_info": {
   "codemirror_mode": {
    "name": "ipython",
    "version": 3
   },
   "file_extension": ".py",
   "mimetype": "text/x-python",
   "name": "python",
   "nbconvert_exporter": "python",
   "pygments_lexer": "ipython3",
   "version": "3.12.4"
  }
 },
 "nbformat": 4,
 "nbformat_minor": 5
}
