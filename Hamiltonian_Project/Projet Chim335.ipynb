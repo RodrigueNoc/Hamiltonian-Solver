{
 "cells": [
  {
   "cell_type": "markdown",
   "id": "4c3ca296",
   "metadata": {},
   "source": [
    "# **Solving the time-independent Schrödinger equation in 1D**"
   ]
  },
  {
   "cell_type": "markdown",
   "id": "e309a6d5-305e-45c1-9567-7cf2a3b174c2",
   "metadata": {},
   "source": [
    "## Importing the libraries used"
   ]
  },
  {
   "cell_type": "code",
   "execution_count": 7,
   "id": "d27e0259-2a47-4967-b520-cb61d9546c4d",
   "metadata": {},
   "outputs": [],
   "source": [
    "import numpy as np\n",
    "\n",
    "from math import pi, sqrt, sin, factorial\n",
    "from scipy.integrate import quad"
   ]
  },
  {
   "cell_type": "code",
   "execution_count": 8,
   "id": "f26b51e2-90d6-402b-ba24-92570da48a14",
   "metadata": {},
   "outputs": [],
   "source": [
    "# Debuging mode ?\n",
    "debug = True"
   ]
  },
  {
   "cell_type": "code",
   "execution_count": 9,
   "id": "6e9a7b9b-94c8-4e26-addd-bd1596af759e",
   "metadata": {},
   "outputs": [],
   "source": [
    "# Typing\n",
    "type Vector = np.ndarray[float]\n",
    "type Family = list[Vector]\n",
    "type Matrix = list[list[float]]"
   ]
  },
  {
   "cell_type": "markdown",
   "id": "ca5e8fee-22b2-4325-85a1-820b0f65e9bd",
   "metadata": {},
   "source": [
    "## Diagonalization procedure"
   ]
  },
  {
   "cell_type": "markdown",
   "id": "ca0e24e6-4b0c-4c9a-929d-92b7b0c90490",
   "metadata": {},
   "source": [
    "### Orthonormalisation procedure useful for the Davidson method\n",
    "We use the gramschmidt algorithm (https://fr.wikipedia.org/wiki/Algorithme_de_Gram-Schmidt)"
   ]
  },
  {
   "cell_type": "code",
   "execution_count": 10,
   "id": "43bead98-5eb8-4c38-abcb-43b49faccd2b",
   "metadata": {},
   "outputs": [
    {
     "name": "stdout",
     "output_type": "stream",
     "text": [
      "On veut transformé un matrice M : \n",
      "\n",
      " [[13 66 58 61 65 72 67  6 89  2]\n",
      " [59 50 20 66 37  9 55 71 72 40]\n",
      " [70 95 70 98 57 54 38 26 95 34]\n",
      " [83 74 56 96 64 83 58 16 53  1]\n",
      " [65 48 57 31 49 48 42 96 49 50]\n",
      " [19 36 84 82 32 62 40  9 68 42]\n",
      " [46 81 44 10  3 64 38 60 54 17]\n",
      " [ 7 77  3  4 10 54 22 51 68 18]\n",
      " [66 44  7 55 23 23 41 39 81 28]\n",
      " [48 86 32 33 48 11 37 77  1 78]] \n",
      "\n",
      "en famille de vecteur : \n",
      "\n",
      "[[13 59 70 83 65 19 46  7 66 48]\n",
      " [66 50 95 74 48 36 81 77 44 86]\n",
      " [58 20 70 56 57 84 44  3  7 32]\n",
      " [61 66 98 96 31 82 10  4 55 33]\n",
      " [65 37 57 64 49 32  3 10 23 48]\n",
      " [72  9 54 83 48 62 64 54 23 11]\n",
      " [67 55 38 58 42 40 38 22 41 37]\n",
      " [ 6 71 26 16 96  9 60 51 39 77]\n",
      " [89 72 95 53 49 68 54 68 81  1]\n",
      " [ 2 40 34  1 50 42 17 18 28 78]]\n",
      "\n",
      "On l'a retransforme en matrice :\n",
      "\n",
      "[[13 66 58 61 65 72 67  6 89  2]\n",
      " [59 50 20 66 37  9 55 71 72 40]\n",
      " [70 95 70 98 57 54 38 26 95 34]\n",
      " [83 74 56 96 64 83 58 16 53  1]\n",
      " [65 48 57 31 49 48 42 96 49 50]\n",
      " [19 36 84 82 32 62 40  9 68 42]\n",
      " [46 81 44 10  3 64 38 60 54 17]\n",
      " [ 7 77  3  4 10 54 22 51 68 18]\n",
      " [66 44  7 55 23 23 41 39 81 28]\n",
      " [48 86 32 33 48 11 37 77  1 78]]\n"
     ]
    }
   ],
   "source": [
    "def matrix_to_family(M: Matrix) -> Family:\n",
    "    \"\"\" Transform a matrix into a family of vectors constituting the columns of this matrix \"\"\"\n",
    "    return np.array(M).T\n",
    "\n",
    "def family_to_matrix(L: Family) -> Matrix:\n",
    "    \"\"\" Transform a family of vectors into a matrix \"\"\"\n",
    "    return np.array(L).T\n",
    "\n",
    "if debug:\n",
    "    M = np.random.randint(100, size=(10,10))\n",
    "    print(\"We want to transform a matrix M : \\n\\n\", M, \"\\n\\ninto a family of vectors : \\n\")\n",
    "    print(matrix_to_family(M))\n",
    "    print(\"\\nIt has been transformed back into a matrix :\\n\")\n",
    "    print(family_to_matrix(matrix_to_family(M)))"
   ]
  },
  {
   "cell_type": "code",
   "execution_count": 11,
   "id": "aad913d7-adb9-46d9-ab94-6af8b17eccce",
   "metadata": {},
   "outputs": [
    {
     "name": "stdout",
     "output_type": "stream",
     "text": [
      "On fait le produit scalaire canonique de [1, 2, 3] avec [2, 3, 4] qui doit donner 20\n",
      "résultat =  20\n"
     ]
    }
   ],
   "source": [
    "def ps(a: Vector, b: Vector) -> float:\n",
    "    \"\"\"\n",
    "    Make the canonical scalar product of ℝ^n explain in\n",
    "    https://fr.wikipedia.org/wiki/Produit_scalaire_canonique\n",
    "    \"\"\"\n",
    "    sum = 0\n",
    "    for i in range(len(a)):\n",
    "        sum += a[i]*b[i]\n",
    "    return sum\n",
    "\n",
    "if debug:\n",
    "    u = [1,2,3]\n",
    "    v = [2,3,4]\n",
    "    print(f\"The canonical scalar product of {u} with {v} which should give 20\")\n",
    "    print(\"résultat = \", ps(u, v))"
   ]
  },
  {
   "cell_type": "code",
   "execution_count": 12,
   "id": "43b5ba82-8da4-47e8-85de-168119af61b1",
   "metadata": {},
   "outputs": [
    {
     "name": "stdout",
     "output_type": "stream",
     "text": [
      "On calcule la norme de [1 1 1] associé au produit saclaire canonique de ℝ^n qui doit donner √3\n",
      "résultat =  1.7320508075688772\n"
     ]
    }
   ],
   "source": [
    "def norm(u: Vector) -> float:\n",
    "    \"\"\" Norm associated with the canonical scalar product of ℝ^n \"\"\"\n",
    "    return ps(u, u)**(1/2)\n",
    "\n",
    "if debug:\n",
    "    u = np.array([1, 1, 1])\n",
    "    print(f\"The norm of {u} associated with the canonical saclary product of ℝ^n which must give √3\")\n",
    "    print(\"result = \", norm(u))"
   ]
  },
  {
   "cell_type": "code",
   "execution_count": 13,
   "id": "16ae51f3-ce09-4912-9af7-0d9ac705e2a9",
   "metadata": {},
   "outputs": [
    {
     "name": "stdout",
     "output_type": "stream",
     "text": [
      "Orthonormalise le vecteur [1, 1, 1] par rapport à la famille orthonormale \n",
      "[[1, 0, 0], [0, 1, 0]]\n",
      " doit renvoyer le vecteur (0,0,1)\n",
      "résultat =  [0. 0. 1.]\n"
     ]
    }
   ],
   "source": [
    "def orthonorm_vec(F: Family, v: Vector) -> Vector:\n",
    "    \"\"\" Orthonomalises a vector with respect to a family of orthonormal vectors \"\"\"\n",
    "    u = np.array(v)\n",
    "    for vk in np.array(F):\n",
    "        u = u - ps(vk, v)*vk\n",
    "    return u/norm(u)\n",
    "\n",
    "if debug:\n",
    "    F = [[1, 0, 0],[0, 1, 0]]\n",
    "    v = [1, 1, 1]\n",
    "    print(f\"Orthonormalise the vector {v} with respect to the orthonormal family \\n{F}\\n must return the vector (0,0,1)\")\n",
    "    print(\"result = \", orthonorm_vec(F, v))    "
   ]
  },
  {
   "cell_type": "code",
   "execution_count": 14,
   "id": "528c1334-141a-4f01-b483-45466cb8ca54",
   "metadata": {},
   "outputs": [
    {
     "name": "stdout",
     "output_type": "stream",
     "text": [
      "On orthonormalise la famille F : \n",
      "[[1, 0, 0], [1, 1, 0], [1, 1, 1]]\n",
      "On doit trouver [[1, 0, 0],[0, 1, 0],[0, 0, 1]]\n",
      "résultat :  [[1. 0. 0.]\n",
      " [0. 1. 0.]\n",
      " [0. 0. 1.]]\n"
     ]
    }
   ],
   "source": [
    "def gram_schmidt(F: Family) -> Family:\n",
    "    \"\"\" Apply the gramschmidt algorithm to orthonomise any family F \"\"\"\n",
    "    ONF = []\n",
    "    for e in F:\n",
    "        ONF.append(orthonorm_vec(ONF, e))\n",
    "    return np.array(ONF)\n",
    "\n",
    "if debug:\n",
    "    F = [[1, 0, 0],[1, 1, 0],[1, 1, 1]]\n",
    "    print(\"The family F is orthonormalized: \")\n",
    "    print(F)\n",
    "    print(\"We need to find [[1, 0, 0],[0, 1, 0],[0, 0, 1]]\")\n",
    "    print(\"result : \", gram_schmidt(F))"
   ]
  },
  {
   "cell_type": "code",
   "execution_count": 15,
   "id": "a22265d7-4c34-4e3f-9f6b-4f20e60c1474",
   "metadata": {},
   "outputs": [
    {
     "name": "stdout",
     "output_type": "stream",
     "text": [
      "On veut orthonormaliser M :\n",
      "[[72 50 80]\n",
      " [28 22  3]\n",
      " [26 15 97]]\n",
      "résultat :\n",
      "[[ 0.88331923  0.0214682  -0.4682801 ]\n",
      " [ 0.34351303  0.6500934   0.67777384]\n",
      " [ 0.31897639 -0.75955098  0.56686539]]\n",
      "La matrice est orthonormale ?\n",
      "norme :  1.0\n",
      "norme :  1.0\n",
      "norme :  0.9999999999999999\n",
      "produit scalaire :  5.467848396278896e-15\n",
      "produit scalaire :  1.4432899320127035e-15\n",
      "produit scalaire :  -6.6058269965196814e-15\n"
     ]
    }
   ],
   "source": [
    "def gram_schmidt_matrix(M: Matrix) -> Matrix:\n",
    "    \"\"\" Apply the gramschmidt algorithm to orthonomalise the matrix M. \"\"\"\n",
    "    return family_to_matrix(gram_schmidt(matrix_to_family(M)))\n",
    "\n",
    "if debug:\n",
    "    M = np.random.randint(100,size=(3, 3))\n",
    "    print(\"We want to orthonormalise M :\")\n",
    "    print(M)\n",
    "    print(\"result :\")\n",
    "    ONM = gram_schmidt_matrix(M)\n",
    "    print(ONM)\n",
    "    print(\"Is the matrix orthonormal?\")\n",
    "    print(\"norm : \", norm(ONM[:,0].T))\n",
    "    print(\"norm : \", norm(ONM[:,1].T))\n",
    "    print(\"norm : \", norm(ONM[:,2].T))\n",
    "    print(\"dot product : \", ps(ONM[:,0].T, ONM[:,2].T,))\n",
    "    print(\"dot product : \", ps(ONM[:,0].T, ONM[:,1].T,))\n",
    "    print(\"dot product : \", ps(ONM[:,2].T, ONM[:,1].T,))"
   ]
  },
  {
   "cell_type": "markdown",
   "id": "0366b3a4-98d8-482c-b7c3-84eeff3bd7fc",
   "metadata": {},
   "source": [
    "### Procédure de tri pour la méthode de Davidson\n",
    "On utilise la méthode de trifusion qui est en complexité n*log(n) (https://fr.wikipedia.org/wiki/Tri_fusion)"
   ]
  },
  {
   "cell_type": "code",
   "execution_count": 16,
   "id": "2df81b2c-b48a-4179-80fa-e63582b03315",
   "metadata": {},
   "outputs": [
    {
     "name": "stdout",
     "output_type": "stream",
     "text": [
      "On fusione les listes [1, 3, 4, 7] et [2, 3, 5] pour obtenir cette liste : [1, 2, 3, 3, 4, 5, 7]\n",
      "résultat :  [1, 2, 3, 3, 4, 5, 7]\n"
     ]
    }
   ],
   "source": [
    "def fusion(A: list, B: list) -> list:\n",
    "    \"\"\" Procedure that merges two sorted lists \"\"\"\n",
    "    if len(A) == 0:\n",
    "        return B\n",
    "    elif len(B) == 0:\n",
    "        return A\n",
    "    elif A[0] <= B[0]:\n",
    "        return [A[0]] + fusion(A[1:], B)\n",
    "    else:\n",
    "        return [B[0]] + fusion(A, B[1:])\n",
    "if debug:\n",
    "    A = [1, 3, 4, 7]\n",
    "    B = [2, 3, 5]\n",
    "    print(f\"We merge the lists {A} and {B} to obtain this list: [1, 2, 3, 3, 4, 5, 7].\")\n",
    "    print(\"result : \", fusion(A, B))"
   ]
  },
  {
   "cell_type": "code",
   "execution_count": 17,
   "id": "30051280-eeca-4e2e-b265-7b21ac08a9a9",
   "metadata": {},
   "outputs": [
    {
     "name": "stdout",
     "output_type": "stream",
     "text": [
      "On tri la liste : [(1, 1), (76, 1), (71, 1), (6, 1), (25, 1), (50, 1), (20, 1), (18, 1), (84, 1), (11, 1)] selon les premières valeur du couple\n",
      "résultat : [(1, 1), (6, 1), (11, 1), (18, 1), (20, 1), (25, 1), (50, 1), (71, 1), (76, 1), (84, 1)]\n"
     ]
    }
   ],
   "source": [
    "def triFusion(L):\n",
    "    \"\"\" Sort a list using the divide and conquer principle \"\"\"\n",
    "    if len(L) == 1:\n",
    "        return L\n",
    "    else:\n",
    "        return fusion(triFusion(L[:len(L)//2]) , triFusion(L[len(L)//2:]))\n",
    "\n",
    "if debug:\n",
    "    L = list(zip([1, 76, 71, 6, 25, 50, 20, 18, 84, 11],[1,1,1,1,1,1,1,1,1,1]))\n",
    "    print(\"We sort the list:\", L, \"according to the first value of the pair\")\n",
    "    print(\"result :\", triFusion(L))"
   ]
  },
  {
   "cell_type": "markdown",
   "id": "2bda5fbd-4b78-437f-93eb-cde4516cd7d2",
   "metadata": {},
   "source": [
    "### Méthode de Davidson\n",
    "Implémentation basé sur ces explications page 65 : https://www.irisa.fr/sage/bernard/publis/DAVIDSON94.pdf"
   ]
  },
  {
   "cell_type": "code",
   "execution_count": 18,
   "id": "83017504-83f4-4a65-b78c-7de47ee30f6b",
   "metadata": {},
   "outputs": [
    {
     "name": "stdout",
     "output_type": "stream",
     "text": [
      "On cherche les valeurs et vecteurs propres de : \n",
      " [[1, 1, 1], [1, 1, 1], [1, 1, 1]]\n",
      "résultat :  (array([1.]), array([[1.],\n",
      "       [0.],\n",
      "       [0.]]))\n",
      "résultat théorique : EigResult(eigenvalues=array([ 3., -0., -0.]), eigenvectors=array([[ 0.577, -0.   , -0.811],\n",
      "       [ 0.577, -0.707,  0.325],\n",
      "       [ 0.577,  0.707,  0.486]]))\n"
     ]
    },
    {
     "name": "stderr",
     "output_type": "stream",
     "text": [
      "C:\\Users\\rodri\\AppData\\Local\\Temp\\ipykernel_9904\\3504234912.py:8: RuntimeWarning: overflow encountered in scalar multiply\n",
      "  sum += a[i]*b[i]\n"
     ]
    }
   ],
   "source": [
    "def davidson(M: Matrix, m=3, l=1, seuil=1e-8, MIt=600) -> tuple:\n",
    "    \"\"\"\n",
    "    M: the matrix to be diagonalized\n",
    "    m: the precision of the agorithm Km = {V0;MV0;M²V0;...}\n",
    "    l: number of eigenvectors/values to find\n",
    "    seuil: precision of the eigenvalue aproxiamtion\n",
    "    MIt : maximum of itieration\n",
    "\n",
    "    Function that returns the cut ([eigenvalue], [eigenvector]) of the matrix M\n",
    "    \"\"\"\n",
    "    np.set_printoptions(precision=3, suppress=True)\n",
    "\n",
    "    # Initialisation\n",
    "    M = np.array(M)\n",
    "    N = len(M)\n",
    "    V1 = np.eye(N, l)\n",
    "    I = np.identity(N)\n",
    "\n",
    "    if not(l<=m<=N):\n",
    "        raise ValueError(f\"value must be {l} <= {m} <= {N}\")\n",
    "\n",
    "    # Construction of the reduced subspace (of Kernal)\n",
    "    v = [V1]\n",
    "\n",
    "    # iteration\n",
    "    for k in range(MIt):\n",
    "        # Solving the reduced subspace\n",
    "        T = np.dot(v[k].T, np.dot(M, v[k]))\n",
    "        val, vec = np.linalg.eig(T)\n",
    "        #val, vec = lanczos(T)\n",
    "        Eigencouple = list(zip(val,vec))\n",
    "        Eigencouple = triFusion(Eigencouple)[-l:] # Plus grande VP\n",
    "        #Eigencouple = triFusion(Eigencouple)[:l] # Plus petite VP\n",
    "        val, vec = list(zip(*Eigencouple))\n",
    "        vec = np.array(vec).T\n",
    "        val = np.array(val)\n",
    "\n",
    "        x = np.array([[] for _ in range(N)])\n",
    "        r = np.array([[] for _ in range(N)])\n",
    "        t = np.array([[] for _ in range(N)])\n",
    "\n",
    "        # Subspace expansion\n",
    "        for i in range(l):\n",
    "            yi = vec[:, i].reshape((T.shape[0], 1))\n",
    "\n",
    "            xi = np.dot(v[k], yi)\n",
    "            x = np.concatenate((x, xi), axis=1)\n",
    "\n",
    "            ri = val[i]*xi-np.dot(M, np.dot(v[k], yi))\n",
    "            r = np.concatenate((r, ri), axis=1)\n",
    "\n",
    "            # Threshold at 1e-300 to avoid problems of division by 0\n",
    "            mu_i = [1/max(np.abs(val[i]-M[j, j]), 1e-200)\n",
    "                    for j in range(N)]\n",
    "            Ci = np.diag(mu_i)\n",
    "            ti = np.dot(Ci, ri)\n",
    "            t = np.concatenate((t, ti), axis=1)\n",
    "                \n",
    "        # Stop if the algo converges \n",
    "        if np.linalg.norm(t) < seuil:\n",
    "            print(\"Davidson converges\")\n",
    "            return val, x\n",
    "\n",
    "        # Otherwise, a new pass matrix is regenerated\n",
    "        if v[k].shape[0] <= m - l :\n",
    "            v.append(gram_schmidt_matrix(np.concatenate((v[k], t), axis=1)).reshape(N, v[k].shape[1]+l))\n",
    "        else:\n",
    "            v.append(gram_schmidt_matrix(np.concatenate((x, t), axis=1)).reshape(N, 2*l))\n",
    "\n",
    "    return val, x\n",
    "\n",
    "if debug:\n",
    "    M = [[1, 1, 1],\n",
    "         [1, 1, 1],\n",
    "         [1, 1, 1]]\n",
    "    print(\"We are looking for the eigenvalues and eigenvectors of : \\n\", M)\n",
    "    print(\"result : \", davidson(M))\n",
    "    print(\"theoretical result :\", np.linalg.eig(M))"
   ]
  },
  {
   "cell_type": "markdown",
   "id": "c0365607-2902-4e95-8b99-46949f01b161",
   "metadata": {},
   "source": [
    "### Lanczos method\n",
    "Implementation based on these explanations https://en.wikipedia.org/wiki/Lanczos_algorithm"
   ]
  },
  {
   "cell_type": "code",
   "execution_count": 19,
   "id": "98507663-0dbc-48f1-8df6-a0face32a4c5",
   "metadata": {},
   "outputs": [],
   "source": [
    "# In construction\n",
    "def lanczos():\n",
    "    pass"
   ]
  },
  {
   "cell_type": "markdown",
   "id": "eeacbf4a",
   "metadata": {},
   "source": [
    "## Construction of the basis for solving the equation"
   ]
  },
  {
   "cell_type": "markdown",
   "id": "3779851e",
   "metadata": {},
   "source": [
    "### Base of sinuses\n",
    "> ⚠️⚠️**Please note that the calculations made by hand are undoubtedly incorrect as they differ from the numerical version.** ⚠️⚠️\n",
    "\n",
    "This function is used to initialise the B_sin class, in particular by initialising the values of the various variables.\n",
    "This class has the following methods:\n",
    "\n",
    "- init :\n",
    "This function initialises the various variables associated with our B_sin class.\n",
    "\n",
    "- ret_base :\n",
    "This function returns the base composed of sines of the desired size.\n",
    "\n",
    "- prdt_scalaire_Ec :\n",
    "Returns the hand-calculated dot product of the kinetic energy of the Hamiltonian.\n",
    "\n",
    "- prdt_scalaire_Ep :\n",
    "Returns the hand-calculated dot product of the potential energy of the Hamiltonian."
   ]
  },
  {
   "cell_type": "code",
   "execution_count": 20,
   "id": "32e09f1a",
   "metadata": {},
   "outputs": [
    {
     "name": "stdout",
     "output_type": "stream",
     "text": [
      "La base des sinus qui est base pour le puit infini de longueur 1 U.A. constituer de 3 vecteurs est :\n",
      "['sqrt(2/1) * sin((0*pi*x)/1)', 'sqrt(2/1) * sin((1*pi*x)/1)', 'sqrt(2/1) * sin((2*pi*x)/1)']\n",
      "La valeur de l'énergie cinétique du système pour les vecteurs 1 et 1 est :  -0.0\n",
      "La valeur de l'énergie potentiel du système pour les vecteurs 1 et 1 est :  0.3333333333333334\n"
     ]
    }
   ],
   "source": [
    "class B_sin():\n",
    "    \"\"\" This class can be used to calculate the sine base for the Hamiltonian \"\"\"\n",
    "    def __init__(self, N, L, V):\n",
    "        \"\"\" Method for initializing the B_sin() object class \"\"\"\n",
    "        self.N = N\n",
    "        self.L = L\n",
    "        self.V = V\n",
    "        x = sqrt(2)\n",
    "        self.k = eval(self.V)\n",
    "    \n",
    "    def ret_base(self):\n",
    "        \"\"\" Method for calculating the list of sines that will form the base \"\"\"\n",
    "        return [f'sqrt(2/{self.L}) * sin(({n}*pi*x)/{self.L})' for n in \n",
    "                range(self.N)]\n",
    "\n",
    "    def prdt_scalaire_Ec(self, i, j):\n",
    "        \"\"\" Method giving the scalar product: <Φi|T̂|Φj> (manual calculation) \"\"\"\n",
    "        if i == j:\n",
    "            return - (j*pi)**2 / self.L\n",
    "        else :\n",
    "            return 0\n",
    "    \n",
    "    def prdt_scalaire_Ep(self, i, j):\n",
    "        \"\"\" Method giving the scalar product: <Φi|V̂|Φj> (calculated by hand) for a harmonic potential \"\"\"\n",
    "        if i == j :\n",
    "            return (self.k * (self.L)**2) / 3\n",
    "        else :\n",
    "            return ((2 * self.k * (self.L)**2) / pi**2) * ( (((-1)**(i+j))/(i+j)**2) - (((-1)**(i-j))/(i-j)**2) )\n",
    "\n",
    "if debug:\n",
    "    N = 3 # The dimenssion of the base\n",
    "    L = 1 # in A.U. is the size of the infinite well where the sines are eigenvectors of the Hamiltonian\n",
    "    m = 1 #  in A.U. is the mass of the particle\n",
    "    w = 1 # in A.U. is the pulsation of the vibration\n",
    "    h = 1 # in A.U. is Plank's constant\n",
    "    k = m*(w**2) # spring stiffness\n",
    "    V = f\"({k}*x**2)/2\" # the potential of an infinite well\n",
    "    B = B_sin(N, L, V)\n",
    "    print(f\"The sine basis for the infinite well of length {L} A.U. consisting of {N} vectors is :\")\n",
    "    print(B.ret_base())\n",
    "    i = 0\n",
    "    j = 0\n",
    "    print(f\"The value of the kinetic energy of the system for the vectors {i+1} and {j+1} is : \", B.prdt_scalaire_Ec(i,j))\n",
    "    print(f\"The value of the potential energy of the system for the vectors {i+1} and {j+1} is : \", B.prdt_scalaire_Ep(i,j))"
   ]
  },
  {
   "cell_type": "markdown",
   "id": "81a10099-d652-405c-a7d4-5246ca2627ac",
   "metadata": {},
   "source": [
    "### Other basis\n",
    "\n",
    "We have also drafted a basis with a harmonic oscillator, which you will find commented on at the end of the Python document 'base'.  \n",
    "**The different sources:**  \n",
    "* https://fr.wikipedia.org/wiki/Oscillateur_harmonique_quantique  \n",
    "* https://fr.wikipedia.org/wiki/Polyn%C3%B4me_d%27Hermite\n",
    "\n"
   ]
  },
  {
   "cell_type": "markdown",
   "id": "c5b4d894",
   "metadata": {
    "jp-MarkdownHeadingCollapsed": true
   },
   "source": [
    "### Any base\n",
    "Here we want to create a base class which will create a base in comprehension. "
   ]
  },
  {
   "cell_type": "markdown",
   "id": "7a38d582-0a7d-4c46-812a-46cde7286d8a",
   "metadata": {},
   "source": [
    "Notre class base aurra besoin de calculer la dériver seconde d'une fonction en un point"
   ]
  },
  {
   "cell_type": "code",
   "execution_count": 21,
   "id": "a21a3253-8632-4ec9-92cc-32cfe03e5df2",
   "metadata": {},
   "outputs": [
    {
     "name": "stdout",
     "output_type": "stream",
     "text": [
      "La dériver de np.sin(x) en 0.0 est  0.9999998333333416\n",
      "La dériver seconde de np.sin(x) en 0.0 est  0.0\n"
     ]
    }
   ],
   "source": [
    "def deriv(f : str, x : float, h = 1e-3):\n",
    "    \"\"\" \n",
    "    Fonction qui calcule la dériver de la fonction f en x.\n",
    "    f est un string.\n",
    "    Exemple d'utilisation pour deriver la fonction sinus en 0:\n",
    "    f = 'np.sin(x)'\n",
    "    x = 0.\n",
    "    resultat = deriv(f,x)\n",
    "    \"\"\"\n",
    "    x += h\n",
    "    res = eval(f)\n",
    "    x -= 2 * h\n",
    "    res -= eval(f)\n",
    "    return res/(2*h)\n",
    "\n",
    "def derivderiv(func : str, x : float, h = 1e-3):\n",
    "    \"\"\"\n",
    "    Fonction qui calcule la dériver seconde de la fonction f en x.\n",
    "    f est un string.\n",
    "    Exemple d'utilisation pour deriver deux fois la fonction sinus en 0:\n",
    "    f = 'np.sin(x)'\n",
    "    x = 0.\n",
    "    resultat = derivderiv(f,x)\n",
    "    \"\"\"\n",
    "    return (deriv(func,x+h)-deriv(func,x-h))/(2*h)\n",
    "\n",
    "if debug:\n",
    "    f = \"np.sin(x)\"\n",
    "    x = 0.\n",
    "    print(f\"La dériver de {f} en {x} est \", deriv(f,x))\n",
    "    print(f\"La dériver seconde de {f} en {x} est \", derivderiv(f,x))"
   ]
  },
  {
   "cell_type": "code",
   "execution_count": 22,
   "id": "dc2a7e51",
   "metadata": {},
   "outputs": [
    {
     "name": "stdout",
     "output_type": "stream",
     "text": [
      "La base des np.sin(a*x) qui est contenue dans un puit infini de longueur 1 U.A. constituer de 3 vecteurs est :\n",
      "['np.sin(1*x)', 'np.sin(2*x)', 'np.sin(3*x)']\n",
      "La valeur de l'énergie cinétique du système pour les vecteurs 1 et 1 est :  -0.5453511048073206\n",
      "La valeur de l'énergie potentiel du système pour les vecteurs 1 et 1 est :  0.15704119745024206\n"
     ]
    }
   ],
   "source": [
    "class base():\n",
    "    \"\"\" Cette classe permet de calculer une base quelconque pour le calcul de l'hamiltonien \"\"\"\n",
    "    def __init__(self, N : int, func : str, var : str, pot : str, L : float):\n",
    "        \"\"\" \n",
    "        Methode qui initialise la classe de l'objet base.\n",
    "        N : Le nombre de vecteur de la base\n",
    "        func : est un string de la fonction comme si on l'écrivait. ex: func = \"np.sin(n*x)\"\n",
    "        var : est la variable d'itération de la base. ex: avec l'exemple précédant on itère selon la variable n : (sin(x), sinc(2x), sin(3x),...)\n",
    "        pot : le potentiel associé au problème défini selon les même restriction que func\n",
    "        L : La largeur de la boîte de potentiel qui comprend le potentiel définit\n",
    "        \"\"\"\n",
    "        self.V = pot\n",
    "        # create the base\n",
    "        self.base =[]\n",
    "        self.L = L\n",
    "\n",
    "        function = func.split(var)\n",
    "        for n in range(1,N+1):\n",
    "            f = ''\n",
    "            for i in range(len(function)):\n",
    "                if i != len(function) - 1:\n",
    "                    f += function[i] + str(n)\n",
    "                else:\n",
    "                    f += function[i]\n",
    "            self.base.append(f)\n",
    "\n",
    "    def prdt_scalaire_Ec(self, i, j) -> float:\n",
    "        \"\"\" Methode qui donne le produit scalaire : <Φi|T̂|Φj> \"\"\"\n",
    "        def func(x):\n",
    "            x = x\n",
    "            return eval(self.base[i]) * derivderiv(self.base[j],x)\n",
    "        return quad(func, -self.L, self.L)[0]\n",
    "    \n",
    "    def prdt_scalaire_Ep(self, i, j) -> float:\n",
    "        \"\"\" Methode qui donne le produit scalaire : <Φi|V̂|Φj>  pour un potentiel quelconque\"\"\"\n",
    "        def func(x):\n",
    "            x = x\n",
    "            return eval(self.base[i]+'*'+self.V+'*'+self.base[j])\n",
    "        return quad(func, -self.L, self.L)[0]\n",
    "\n",
    "if debug:\n",
    "    N = 3 # La dimenssion de la base\n",
    "    L = 1 # en U.A. est la taille du puit infini où les sinus sont vecteurs propres de l'hamiltonien\n",
    "    m = 1 # en U.A. est la masse de la particule\n",
    "    w = 1 # en U.A. est la pulsation de la vibration\n",
    "    h = 1 # en U.A. est la constante de Plank\n",
    "    k = m*(w**2) # la raideur du ressort\n",
    "    V = f\"({k}*x**2)/2\" # le potentiel d'un puit infini\n",
    "\n",
    "    f = \"np.sin(a*x)\"\n",
    "    var = \"a\"\n",
    "    \n",
    "    # Définition de la base\n",
    "    B = base(N, f, var, V, L)\n",
    "    print(f\"La base des {f} qui est contenue dans un puit infini de longueur {L} U.A. constituer de {N} vecteurs est :\")\n",
    "    print(B.base)\n",
    "    i = 0\n",
    "    j = 0\n",
    "    print(f\"La valeur de l'énergie cinétique du système pour les vecteurs {i+1} et {j+1} est : \", B.prdt_scalaire_Ec(i,j))\n",
    "    print(f\"La valeur de l'énergie potentiel du système pour les vecteurs {i+1} et {j+1} est : \", B.prdt_scalaire_Ep(i,j))"
   ]
  },
  {
   "cell_type": "markdown",
   "id": "9c9a469f-cb04-401e-bbcc-0f5effe22b91",
   "metadata": {},
   "source": [
    "## Resolution routine\n",
    "### Procedure which determines the Hamiltonian of the system associated with the basis of description"
   ]
  },
  {
   "cell_type": "code",
   "execution_count": 23,
   "id": "8bead5fa-2a2b-4709-a70e-765c21a0b6fe",
   "metadata": {},
   "outputs": [],
   "source": [
    "def CalculHamiltonian(base, N):\n",
    "\n",
    "    H = np.zeros((N,N))\n",
    "\n",
    "    for i in range(N):\n",
    "        for j in range(i + 1):\n",
    "            H[i,j] = base.prdt_scalaire_Ec(i, j) +  base.prdt_scalaire_Ep(i, j)\n",
    "\n",
    "    H = H + H.T - np.diag(np.diag(H))\n",
    "\n",
    "    return H"
   ]
  },
  {
   "cell_type": "code",
   "execution_count": 24,
   "id": "28f1fb91-2eba-4517-a75d-0404d3643821",
   "metadata": {},
   "outputs": [],
   "source": [
    "### Constants and functions\n",
    "N = 10 # The dimenssion of the base\n",
    "L = 1 # in A.U. is the size of the infinite well where the sines are eigenvectors of the Hamiltonian\n",
    "m = 1 # in A.U. is the mass of the particle\n",
    "w = 1 # in A.U. is the pulsation of the vibration\n",
    "h = 1 # in A.U. is Plank's constant\n",
    "k = m*(w**2) # spring stiffness\n",
    "V = f\"({k}*x**2)/2\" # the potential of an infinite well\n",
    "\n",
    "func = f'np.sqrt(2/{L})*np.sin( (a*np.pi*x) /{L})'\n",
    "var = \"a\""
   ]
  },
  {
   "cell_type": "code",
   "execution_count": 26,
   "id": "77693706-f24f-40e9-9d5d-6d2ad19a9657",
   "metadata": {},
   "outputs": [
    {
     "name": "stdout",
     "output_type": "stream",
     "text": [
      "The basis of the system is :\n",
      "['np.sqrt(2/1)*np.sin( (1*np.pi*x) /1)', 'np.sqrt(2/1)*np.sin( (2*np.pi*x) /1)', 'np.sqrt(2/1)*np.sin( (3*np.pi*x) /1)', 'np.sqrt(2/1)*np.sin( (4*np.pi*x) /1)', 'np.sqrt(2/1)*np.sin( (5*np.pi*x) /1)', 'np.sqrt(2/1)*np.sin( (6*np.pi*x) /1)', 'np.sqrt(2/1)*np.sin( (7*np.pi*x) /1)', 'np.sqrt(2/1)*np.sin( (8*np.pi*x) /1)', 'np.sqrt(2/1)*np.sin( (9*np.pi*x) /1)', 'np.sqrt(2/1)*np.sin( (10*np.pi*x) /1)']\n",
      "\n",
      "The associated Hamiltonian is :\n",
      "[[ -19.456   -0.18     0.038   -0.014    0.007]\n",
      " [  -0.18   -78.635   -0.195    0.045   -0.018]\n",
      " [   0.038   -0.195 -177.32    -0.199    0.047]\n",
      " [  -0.014    0.045   -0.199 -315.481   -0.2  ]\n",
      " [   0.007   -0.018    0.047   -0.2   -493.108]]\n",
      "\n",
      "System resolution in progress ...\n",
      "\n",
      "Resolution complete.\n",
      "Digital energy :  [-19.456]\n",
      "Digital energy with numpy :  [ -19.456 -493.109  -78.635 -177.32  -315.481]\n",
      "Analitic energy :  0.5\n"
     ]
    }
   ],
   "source": [
    "B = base(N, func, var, V, L)\n",
    "print(\"The basis of the system is :\")\n",
    "print(B.base)\n",
    "\n",
    "H = CalculHamiltonian(B, N)\n",
    "print()\n",
    "print(\"The associated Hamiltonian is :\")\n",
    "print(H)\n",
    "\n",
    "print()\n",
    "print(\"System resolution in progress ...\")\n",
    "E, phi = davidson(H)\n",
    "val, vec = np.linalg.eig(H)\n",
    "\n",
    "print()\n",
    "print(\"Resolution complete.\")\n",
    "print(\"Digital energy : \", E)\n",
    "print(\"Digital energy with numpy : \", val)\n",
    "print(\"Analitic energy : \", h*w/2)"
   ]
  }
 ],
 "metadata": {
  "kernelspec": {
   "display_name": "Python 3 (ipykernel)",
   "language": "python",
   "name": "python3"
  },
  "language_info": {
   "codemirror_mode": {
    "name": "ipython",
    "version": 3
   },
   "file_extension": ".py",
   "mimetype": "text/x-python",
   "name": "python",
   "nbconvert_exporter": "python",
   "pygments_lexer": "ipython3",
   "version": "3.12.4"
  }
 },
 "nbformat": 4,
 "nbformat_minor": 5
}
