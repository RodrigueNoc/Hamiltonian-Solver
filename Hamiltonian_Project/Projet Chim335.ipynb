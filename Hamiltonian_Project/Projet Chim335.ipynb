{
 "cells": [
  {
   "cell_type": "markdown",
   "id": "4c3ca296",
   "metadata": {},
   "source": [
    "# **Solving the time-independent Schrödinger equation in 1D**"
   ]
  },
  {
   "cell_type": "markdown",
   "id": "eeacbf4a",
   "metadata": {},
   "source": [
    "## Construction des bases de résolution de l'équation"
   ]
  },
  {
   "cell_type": "markdown",
   "id": "3779851e",
   "metadata": {},
   "source": [
    "### Sine basis"
   ]
  },
  {
   "cell_type": "code",
   "execution_count": null,
   "id": "32e09f1a",
   "metadata": {},
   "outputs": [],
   "source": []
  },
  {
   "cell_type": "markdown",
   "id": "c5b4d894",
   "metadata": {},
   "source": [
    "# fonction init #\n",
    "Cette fonction permet d'initialiser la classe de B_sin en initialisant notament les valeurs des différentes variables."
   ]
  },
  {
   "cell_type": "code",
   "execution_count": 2,
   "id": "dc2a7e51",
   "metadata": {},
   "outputs": [],
   "source": [
    "from math import pi, sqrt, sin, factorial\n",
    "\n",
    "class B_sin():\n",
    "    \"\"\" Cette classe permet de calculer la base des sinus pour le calcul\n",
    "    de l'hamiltonien \"\"\"\n",
    "    def __init__(self, N, L, V):\n",
    "        \"\"\" Methode qui initialise la classe de l'objet B_sin() \"\"\"\n",
    "        self.N = N\n",
    "        self.L = L\n",
    "        self.V = V\n",
    "    \n",
    "    def ret_base(self):\n",
    "        \"\"\" Methode qui calcule la liste des sinus qui formera la base \"\"\"\n",
    "        return [f'sqrt(2/{self.L}) * sin(({n}*pi*x)/{self.L})' for n in \n",
    "                range(self.N)]\n",
    "\n",
    "    def prdt_scalaire_Ec(self, i, j):\n",
    "        \"\"\" Methode qui donne le produit scalaire des sinus (calcul a la \n",
    "        main) \"\"\"\n",
    "        if i == j:\n",
    "            return - (j*pi)**2 / self.L\n",
    "        else :\n",
    "            return 0\n",
    "    \n",
    "    def prdt_scalaire_Ep(self, i, j):\n",
    "        \"\"\" Methode qui donne le produit scalaire des sinus (calcul a la \n",
    "        main) pour un potentiel harmonique\"\"\"\n",
    "        if i == j :\n",
    "            return (self.V(sqrt(2)) * (self.L)**2) / 3\n",
    "        else :\n",
    "            return ((2 * self.V(sqrt(2)) * (self.L)**2) / pi**2) * ( (((-1)**(i+j))/(i+j)**2) - (((-1)**(i-j))/(i-j)**2) )\n"
   ]
  }
 ],
 "metadata": {
  "kernelspec": {
   "display_name": "Python 3",
   "language": "python",
   "name": "python3"
  },
  "language_info": {
   "codemirror_mode": {
    "name": "ipython",
    "version": 3
   },
   "file_extension": ".py",
   "mimetype": "text/x-python",
   "name": "python",
   "nbconvert_exporter": "python",
   "pygments_lexer": "ipython3",
   "version": "3.9.9"
  }
 },
 "nbformat": 4,
 "nbformat_minor": 5
}
