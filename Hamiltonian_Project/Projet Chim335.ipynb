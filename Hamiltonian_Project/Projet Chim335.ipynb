{
 "cells": [
  {
   "cell_type": "markdown",
   "id": "9ac8cd2c-d4aa-4b10-a2b5-f44680c6afe1",
   "metadata": {},
   "source": [
    "# **Solving the time-independent Schrödinger equation in 1D**"
   ]
  },
  {
   "cell_type": "markdown",
   "id": "2e7accba-f373-4590-a264-3a3a640ed3c7",
   "metadata": {},
   "source": [
    "##  Construction of the bases for solving the equation"
   ]
  },
  {
   "cell_type": "markdown",
   "id": "9d8c9fa8-fd41-479c-8079-84a60044ecd7",
   "metadata": {},
   "source": [
    "### <u>**Sine basis**</u>"
   ]
  },
  {
   "cell_type": "code",
   "execution_count": null,
   "id": "adc06318-ee64-478d-ab3d-bc6096db594c",
   "metadata": {},
   "outputs": [],
   "source": [
    "from math import pi, sqrt, sin, factorial\n",
    "\n",
    "class B_sin():\n",
    "    \"\"\" Cette classe permet de calculer la base des sinus pour le calcul\n",
    "    de l'hamiltonien \"\"\"\n",
    "    def __init__(self, N, L, V):\n",
    "        \"\"\" Methode qui initialise la classe de l'objet B_sin() \"\"\"\n",
    "        self.N = N\n",
    "        self.L = L\n",
    "        self.V = V\n",
    "        x = sqrt(2)\n",
    "        self.k = eval(self.V)\n",
    "    \n",
    "    def ret_base(self):\n",
    "        \"\"\" Methode qui calcule la liste des sinus qui formera la base \"\"\"\n",
    "        return [f'sqrt(2/{self.L}) * sin(({n}*pi*x)/{self.L})' for n in \n",
    "                range(self.N)]\n",
    "\n",
    "    def prdt_scalaire_Ec(self, i, j):\n",
    "        \"\"\" Methode qui donne le produit scalaire des sinus (calcul a la \n",
    "        main) \"\"\"\n",
    "        if i == j:\n",
    "            return - (j*pi)**2 / self.L\n",
    "        else :\n",
    "            return 0\n",
    "    \n",
    "    def prdt_scalaire_Ep(self, i, j):\n",
    "        \"\"\" Methode qui donne le produit scalaire des sinus (calcul a la \n",
    "        main) pour un potentiel harmonique\"\"\"\n",
    "        if i == j :\n",
    "            return (self.k * (self.L)**2) / 3\n",
    "        else :\n",
    "            return ((2 * self.k * (self.L)**2) / pi**2) * ( (((-1)**(i+j))/(i+j)**2) - (((-1)**(i-j))/(i-j)**2) )"
   ]
  },
  {
   "cell_type": "markdown",
   "id": "b6a20817-a210-49f2-a108-a20d753b928e",
   "metadata": {},
   "source": [
    "#### - Function init :\n",
    "This function initializes the different variables of our B_sin class.\n",
    "#### - Function ret_base :\n",
    "This function returns the basis composed of sines of a desired size.\n",
    "#### - Function prdt_scalaire_Ec :\n",
    "Returns the hand-calculated dot product of the kinetic energy of the Hamiltonian.\n",
    "#### - Function prdt_scalaire_Ep :\n",
    "Returns the hand-calculated dot product of the potential energy of the Hamiltonian."
   ]
  },
  {
   "cell_type": "markdown",
   "id": "29f957f2-df73-429e-9c25-9df4648a7cc3",
   "metadata": {},
   "source": [
    "### <u>**Other basis**</u>"
   ]
  },
  {
   "cell_type": "markdown",
   "id": "58ee0cc8-3a1a-4f7e-9378-309fb1f27550",
   "metadata": {},
   "source": [
    "We have also drafted a basis with a harmonic oscillator, which you will find commented on at the end of the Python document 'base'. \n",
    "The different sources: \n",
    "- https://fr.wikipedia.org/wiki/Oscillateur_harmonique_quantique\n",
    "- https://fr.wikipedia.org/wiki/Polyn%C3%B4me_d%27Hermite"
   ]
  },
  {
   "cell_type": "markdown",
   "id": "2e637bf7-c0f1-4e3c-9a67-3f45c6660cde",
   "metadata": {},
   "source": [
    "##  Diagonalization algorithm"
   ]
  },
  {
   "cell_type": "markdown",
   "id": "278b4af7-a409-40bb-8be9-06278fbdaa00",
   "metadata": {},
   "source": [
    "### <u>**Python document 'sort'**</u>"
   ]
  },
  {
   "cell_type": "code",
   "execution_count": null,
   "id": "348e7020-e6aa-4420-a179-61560e0651d0",
   "metadata": {},
   "outputs": [],
   "source": [
    "def triFusion(L):\n",
    "    if len(L) == 1:\n",
    "        return L\n",
    "    else:\n",
    "        return fusion(triFusion(L[:len(L)//2]) , triFusion(L[len(L)//2:]))\n",
    "    \n",
    "def fusion(A, B):\n",
    "    if len(A) == 0:\n",
    "        return B\n",
    "    elif len(B) == 0:\n",
    "        return A\n",
    "    elif A[0] <= B[0]:\n",
    "        return [A[0]] + fusion(A[1:], B)\n",
    "    else:\n",
    "        return [B[0]] + fusion(A, B[1:])"
   ]
  },
  {
   "cell_type": "markdown",
   "id": "3d96b731-0cf2-4867-8e7c-35ed8f8f7a89",
   "metadata": {},
   "source": [
    "#### - Function triFusion :\n",
    "This function allows sorting a list recursively by reducing it to a single-element list.\n",
    "#### - Function fusion :\n",
    "This function allows sorting a list recursively by comparing each element of the sublists returned by triFusion in order to place them correctly."
   ]
  },
  {
   "cell_type": "markdown",
   "id": "332323c6-c5e0-4332-89ce-a489c72d3a4b",
   "metadata": {},
   "source": [
    "### <u>**Python document 'GramSchmidt'**</u>"
   ]
  },
  {
   "cell_type": "code",
   "execution_count": null,
   "id": "3c3e9715-6bc3-4f6f-b5fa-f8e5cee2b7ef",
   "metadata": {},
   "outputs": [],
   "source": []
  }
 ],
 "metadata": {
  "kernelspec": {
   "display_name": "Python 3 (ipykernel)",
   "language": "python",
   "name": "python3"
  },
  "language_info": {
   "codemirror_mode": {
    "name": "ipython",
    "version": 3
   },
   "file_extension": ".py",
   "mimetype": "text/x-python",
   "name": "python",
   "nbconvert_exporter": "python",
   "pygments_lexer": "ipython3",
   "version": "3.12.7"
  }
 },
 "nbformat": 4,
 "nbformat_minor": 5
}
